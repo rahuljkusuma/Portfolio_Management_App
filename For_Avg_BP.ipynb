{
 "cells": [
  {
   "cell_type": "code",
   "execution_count": 1,
   "id": "2294e86e",
   "metadata": {},
   "outputs": [],
   "source": [
    "from pandas import Series, DataFrame\n",
    "import pandas as pd\n",
    "import numpy as np"
   ]
  },
  {
   "cell_type": "code",
   "execution_count": 2,
   "id": "cd363a7c",
   "metadata": {},
   "outputs": [],
   "source": [
    "data = {'names':[\"Alembic\",\"RVNL\",\"RIL\",\"NOCIL\",\"RVNL\",\"Dmart\",\"RVNL\",\"Alembic\",\"MSTC\",\"Alembic\"],\n",
    "\t\t'qty':[1,13,5,10,22,2,27,2,11,1],\n",
    "\t\t'bp':[105.9,21.5,1000,213,19.75,3275,29,132.7,182.2,103.75],\n",
    "\t\t}"
   ]
  },
  {
   "cell_type": "code",
   "execution_count": 3,
   "id": "2cfd23cc",
   "metadata": {},
   "outputs": [],
   "source": [
    "# I am looking for average buying price for each stock.\n",
    "\n",
    "# Formula for average buying price is (sum of total)/(sum of quantity)\n",
    "\n",
    "# For example for Alembic average buying price is (105.9+265.4+103.75)/(1+2+1)=118.76"
   ]
  },
  {
   "cell_type": "code",
   "execution_count": 8,
   "id": "99fd3102",
   "metadata": {},
   "outputs": [],
   "source": [
    "df = pd.DataFrame(data=data)"
   ]
  },
  {
   "cell_type": "code",
   "execution_count": null,
   "id": "fa5b29e1",
   "metadata": {},
   "outputs": [],
   "source": []
  },
  {
   "cell_type": "code",
   "execution_count": 9,
   "id": "ac536306",
   "metadata": {},
   "outputs": [],
   "source": [
    "for i in range(0,len(df['qty'])):\n",
    "    df.loc[i,'Total'] = df.loc[i,'qty']*df.loc[i,'bp']"
   ]
  },
  {
   "cell_type": "code",
   "execution_count": 10,
   "id": "09c7b1f8",
   "metadata": {},
   "outputs": [
    {
     "name": "stdout",
     "output_type": "stream",
     "text": [
      "     names  qty       bp    Total\n",
      "0  Alembic    1   105.90   105.90\n",
      "1     RVNL   13    21.50   279.50\n",
      "2      RIL    5  1000.00  5000.00\n",
      "3    NOCIL   10   213.00  2130.00\n",
      "4     RVNL   22    19.75   434.50\n",
      "5    Dmart    2  3275.00  6550.00\n",
      "6     RVNL   27    29.00   783.00\n",
      "7  Alembic    2   132.70   265.40\n",
      "8     MSTC   11   182.20  2004.20\n",
      "9  Alembic    1   103.75   103.75\n"
     ]
    }
   ],
   "source": [
    "print(df)"
   ]
  },
  {
   "cell_type": "code",
   "execution_count": 43,
   "id": "2c183a70",
   "metadata": {},
   "outputs": [],
   "source": [
    "sum_of_qty = df.groupby('names')['qty'].sum()"
   ]
  },
  {
   "cell_type": "code",
   "execution_count": 44,
   "id": "91641793",
   "metadata": {},
   "outputs": [
    {
     "data": {
      "text/plain": [
       "names\n",
       "Alembic     4\n",
       "Dmart       2\n",
       "MSTC       11\n",
       "NOCIL      10\n",
       "RIL         5\n",
       "RVNL       62\n",
       "Name: qty, dtype: int64"
      ]
     },
     "execution_count": 44,
     "metadata": {},
     "output_type": "execute_result"
    }
   ],
   "source": [
    "sum_of_qty"
   ]
  },
  {
   "cell_type": "code",
   "execution_count": 47,
   "id": "f504c8a7",
   "metadata": {},
   "outputs": [],
   "source": [
    "avg_price = df.groupby('names')['Total'].sum()"
   ]
  },
  {
   "cell_type": "code",
   "execution_count": 48,
   "id": "f4588f97",
   "metadata": {},
   "outputs": [
    {
     "data": {
      "text/plain": [
       "names\n",
       "Alembic     475.05\n",
       "Dmart      6550.00\n",
       "MSTC       2004.20\n",
       "NOCIL      2130.00\n",
       "RIL        5000.00\n",
       "RVNL       1497.00\n",
       "Name: Total, dtype: float64"
      ]
     },
     "execution_count": 48,
     "metadata": {},
     "output_type": "execute_result"
    }
   ],
   "source": [
    "avg_price"
   ]
  },
  {
   "cell_type": "code",
   "execution_count": 49,
   "id": "ae331629",
   "metadata": {},
   "outputs": [],
   "source": [
    "def avg_bp():\n",
    "    res = (df.groupby('names')['bp'].sum())/(df.groupby('names')['qty'].sum())\n",
    "    return res"
   ]
  },
  {
   "cell_type": "code",
   "execution_count": 51,
   "id": "70797666",
   "metadata": {},
   "outputs": [],
   "source": [
    "avg_bp = avg_price/sum_of_qty"
   ]
  },
  {
   "cell_type": "code",
   "execution_count": 52,
   "id": "c4ac0fa4",
   "metadata": {},
   "outputs": [
    {
     "data": {
      "text/plain": [
       "pandas.core.series.Series"
      ]
     },
     "execution_count": 52,
     "metadata": {},
     "output_type": "execute_result"
    }
   ],
   "source": [
    "type(avg_bp)"
   ]
  },
  {
   "cell_type": "code",
   "execution_count": 59,
   "id": "45a9be0d",
   "metadata": {},
   "outputs": [
    {
     "data": {
      "text/plain": [
       "names\n",
       "Alembic     118.762500\n",
       "Dmart      3275.000000\n",
       "MSTC        182.200000\n",
       "NOCIL       213.000000\n",
       "RIL        1000.000000\n",
       "RVNL         24.145161\n",
       "dtype: float64"
      ]
     },
     "execution_count": 59,
     "metadata": {},
     "output_type": "execute_result"
    }
   ],
   "source": [
    "avg_bp"
   ]
  },
  {
   "cell_type": "code",
   "execution_count": 56,
   "id": "d3233fa5",
   "metadata": {},
   "outputs": [
    {
     "data": {
      "text/plain": [
       "118.76249999999999"
      ]
     },
     "execution_count": 56,
     "metadata": {},
     "output_type": "execute_result"
    }
   ],
   "source": [
    "avg_bp['Alembic']"
   ]
  },
  {
   "cell_type": "code",
   "execution_count": 61,
   "id": "c7f40174",
   "metadata": {},
   "outputs": [
    {
     "name": "stdout",
     "output_type": "stream",
     "text": [
      "NOCIL-213.00\n",
      "RIL-1000.00\n",
      "Alembic-118.76\n",
      "MSTC-182.20\n",
      "RVNL-24.15\n",
      "Dmart-3275.00\n"
     ]
    }
   ],
   "source": [
    "for i in newli:\n",
    "    print(f\"{i}-{avg_bp[i]:.2f}\")"
   ]
  },
  {
   "cell_type": "code",
   "execution_count": null,
   "id": "cd95581f",
   "metadata": {},
   "outputs": [],
   "source": []
  },
  {
   "cell_type": "code",
   "execution_count": null,
   "id": "3f64e05f",
   "metadata": {},
   "outputs": [],
   "source": []
  },
  {
   "cell_type": "code",
   "execution_count": null,
   "id": "dc6a7233",
   "metadata": {},
   "outputs": [],
   "source": []
  },
  {
   "cell_type": "code",
   "execution_count": null,
   "id": "5c3d5d50",
   "metadata": {},
   "outputs": [],
   "source": []
  },
  {
   "cell_type": "code",
   "execution_count": null,
   "id": "913f1af5",
   "metadata": {},
   "outputs": [],
   "source": []
  },
  {
   "cell_type": "code",
   "execution_count": null,
   "id": "61a86d95",
   "metadata": {},
   "outputs": [],
   "source": []
  },
  {
   "cell_type": "code",
   "execution_count": null,
   "id": "cb13ed96",
   "metadata": {},
   "outputs": [],
   "source": []
  },
  {
   "cell_type": "code",
   "execution_count": null,
   "id": "526bd8ef",
   "metadata": {},
   "outputs": [],
   "source": []
  },
  {
   "cell_type": "code",
   "execution_count": null,
   "id": "e3036a16",
   "metadata": {},
   "outputs": [],
   "source": []
  },
  {
   "cell_type": "code",
   "execution_count": null,
   "id": "8f4691bc",
   "metadata": {},
   "outputs": [],
   "source": []
  },
  {
   "cell_type": "code",
   "execution_count": null,
   "id": "1e3511b2",
   "metadata": {},
   "outputs": [],
   "source": []
  },
  {
   "cell_type": "code",
   "execution_count": null,
   "id": "ef914431",
   "metadata": {},
   "outputs": [],
   "source": []
  },
  {
   "cell_type": "code",
   "execution_count": null,
   "id": "da14837c",
   "metadata": {},
   "outputs": [],
   "source": []
  },
  {
   "cell_type": "code",
   "execution_count": null,
   "id": "3d9ab953",
   "metadata": {},
   "outputs": [],
   "source": []
  },
  {
   "cell_type": "code",
   "execution_count": null,
   "id": "acb1d65a",
   "metadata": {},
   "outputs": [],
   "source": []
  },
  {
   "cell_type": "code",
   "execution_count": null,
   "id": "9fabc6f4",
   "metadata": {},
   "outputs": [],
   "source": []
  },
  {
   "cell_type": "code",
   "execution_count": null,
   "id": "9a362fe6",
   "metadata": {},
   "outputs": [],
   "source": []
  },
  {
   "cell_type": "code",
   "execution_count": null,
   "id": "9e8eb52f",
   "metadata": {},
   "outputs": [],
   "source": []
  },
  {
   "cell_type": "code",
   "execution_count": null,
   "id": "c67db0d3",
   "metadata": {},
   "outputs": [],
   "source": []
  },
  {
   "cell_type": "code",
   "execution_count": null,
   "id": "6196363b",
   "metadata": {},
   "outputs": [],
   "source": []
  },
  {
   "cell_type": "code",
   "execution_count": null,
   "id": "160e3dbe",
   "metadata": {},
   "outputs": [],
   "source": []
  },
  {
   "cell_type": "code",
   "execution_count": null,
   "id": "d7dff9b2",
   "metadata": {},
   "outputs": [],
   "source": []
  },
  {
   "cell_type": "code",
   "execution_count": null,
   "id": "c09a36ee",
   "metadata": {},
   "outputs": [],
   "source": []
  },
  {
   "cell_type": "code",
   "execution_count": null,
   "id": "9b8936a6",
   "metadata": {},
   "outputs": [],
   "source": []
  },
  {
   "cell_type": "code",
   "execution_count": null,
   "id": "27d2d3d4",
   "metadata": {},
   "outputs": [],
   "source": []
  },
  {
   "cell_type": "code",
   "execution_count": null,
   "id": "cc59cf0f",
   "metadata": {},
   "outputs": [],
   "source": []
  },
  {
   "cell_type": "code",
   "execution_count": null,
   "id": "e0720d6d",
   "metadata": {},
   "outputs": [],
   "source": []
  },
  {
   "cell_type": "code",
   "execution_count": null,
   "id": "e82164c1",
   "metadata": {},
   "outputs": [],
   "source": []
  },
  {
   "cell_type": "code",
   "execution_count": null,
   "id": "75751cdc",
   "metadata": {},
   "outputs": [],
   "source": []
  },
  {
   "cell_type": "code",
   "execution_count": null,
   "id": "501100a7",
   "metadata": {},
   "outputs": [],
   "source": []
  },
  {
   "cell_type": "code",
   "execution_count": null,
   "id": "b317f578",
   "metadata": {},
   "outputs": [],
   "source": []
  },
  {
   "cell_type": "code",
   "execution_count": null,
   "id": "4c01c70e",
   "metadata": {},
   "outputs": [],
   "source": []
  }
 ],
 "metadata": {
  "kernelspec": {
   "display_name": "Python 3",
   "language": "python",
   "name": "python3"
  },
  "language_info": {
   "codemirror_mode": {
    "name": "ipython",
    "version": 3
   },
   "file_extension": ".py",
   "mimetype": "text/x-python",
   "name": "python",
   "nbconvert_exporter": "python",
   "pygments_lexer": "ipython3",
   "version": "3.8.8"
  }
 },
 "nbformat": 4,
 "nbformat_minor": 5
}
